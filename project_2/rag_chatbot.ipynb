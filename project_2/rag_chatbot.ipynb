{
 "cells": [
  {
   "cell_type": "markdown",
   "id": "568f5f07",
   "metadata": {},
   "source": [
    "# Project 2: Customer‑Support Chatbot for an E-Commerce Store"
   ]
  },
  {
   "cell_type": "markdown",
   "id": "2cfe2a04",
   "metadata": {},
   "source": [
    "Welcome! In this project, you'll build a **chatbot** that answers customer service questions about Everstorm Outfitters, an imaginary e-commerce store.\n",
    "\n",
    "Run each cell in order. Feel free to modify them as you go to better understand each tool and search the web or look online for documentation."
   ]
  },
  {
   "cell_type": "markdown",
   "id": "f49e17b2",
   "metadata": {},
   "source": [
    "## Learning Objectives  \n",
    "* **Ingest & chunk** unstructured docs  \n",
    "* **Embed** chunks and **index** with *FAISS*  \n",
    "* **Retrieve** context and **craft prompts**  \n",
    "* **Run** an open‑weight LLM locally with *Ollama*  \n",
    "* **Build** a Retrieval-Augmented Generation (RAG) chain\n",
    "* **Package** the chat loop in a minimal **Streamlit** web UI"
   ]
  },
  {
   "cell_type": "markdown",
   "id": "2a46b9cc",
   "metadata": {},
   "source": [
    "## Roadmap  \n",
    "We will build a RAG-based chatbot in **six** steps:\n",
    "\n",
    "1. **Environment setup**\n",
    "2. **Data preparation**  \n",
    "   a. Load source documents  \n",
    "   b. Chunk the text  \n",
    "3. **Build a retriever**  \n",
    "   a. Generate embeddings  \n",
    "   b. Build a FAISS vector index  \n",
    "4. **Build a generation engine**. Load the *Gemma3-1B* model through Ollama and run a sanity check.  \n",
    "5. **Build a RAG**. Connect the system prompt, retriever, and LLM together. \n",
    "6. **(Optional) Streamlit UI**. Wrap everything in a simple web app so users can chat with the bot.\n"
   ]
  },
  {
   "cell_type": "markdown",
   "id": "3a01819c",
   "metadata": {},
   "source": [
    "## 1 - Environment setup\n",
    "\n",
    "We use conda to manage our project dependencies and ensure everyone has a consistent setup. Conda is an open-source package and environment manager that makes it easy to install libraries and switch between isolated environments. To learn more about conda, you can read: https://docs.conda.io/en/latest/\n",
    "\n",
    "Create and activate a clean *conda* environment and install the required packages. If you don't have conda installed, visit https://www.anaconda.com/docs/getting-started/miniconda/main.\n",
    "\n",
    "\n",
    "Open your terminal, navigate to the project folder where this notebook is located, and run the following commands.\n",
    "\n",
    "```bash\n",
    "conda env create -f environment.yml && conda activate rag-chatbot\n",
    "\n",
    "# (Optional but recommended) Register this environment as a Jupyter kernel\n",
    "python -m ipykernel install --user --name=rag-chatbot --display-name \"rag-chatbot\"\n",
    "```\n",
    "Once this is done, you can select “rag-chatbot” from the Kernel → Change Kernel menu in Jupyter or VS Code.\n",
    "\n",
    "\n",
    "> Behind the scenes:\n",
    "> * Conda reads `environment.yml`, solves all pinned dependencies, and builds an isolated environment named `rag-chatbot`.\n",
    "> * When it reaches the file’s \"pip:\" section, Conda automatically invokes pip to install any remaining Python-only packages so the whole stack be available for the project.\n",
    "> * Registering the kernel makes your new environment visible to Jupyter, so the notebook runs inside the same environment you just created."
   ]
  },
  {
   "cell_type": "markdown",
   "id": "32a29e43",
   "metadata": {},
   "source": [
    "Let's import required libraries and print a message if we're not **missing packages**."
   ]
  },
  {
   "cell_type": "code",
   "execution_count": 1,
   "id": "65b49fcb",
   "metadata": {},
   "outputs": [
    {
     "name": "stderr",
     "output_type": "stream",
     "text": [
      "/Users/thirumalakiran/miniconda3/envs/rag-chatbot/lib/python3.11/site-packages/tqdm/auto.py:21: TqdmWarning: IProgress not found. Please update jupyter and ipywidgets. See https://ipywidgets.readthedocs.io/en/stable/user_install.html\n",
      "  from .autonotebook import tqdm as notebook_tqdm\n"
     ]
    },
    {
     "name": "stdout",
     "output_type": "stream",
     "text": [
      "✅ Libraries imported! You're good to go!\n"
     ]
    }
   ],
   "source": [
    "# Import standard libraries for file handling and text processing\n",
    "import os, pathlib, textwrap, glob\n",
    "\n",
    "# Load documents from various sources (URLs, text files, PDFs)\n",
    "from langchain_community.document_loaders import UnstructuredURLLoader, TextLoader, PyPDFLoader\n",
    "\n",
    "# Split long texts into smaller, manageable chunks for embedding\n",
    "from langchain.text_splitter import RecursiveCharacterTextSplitter\n",
    "\n",
    "# Vector store to store and retrieve embeddings efficiently using FAISS\n",
    "from langchain.vectorstores import FAISS\n",
    "\n",
    "# Generate text embeddings using OpenAI or Hugging Face models\n",
    "from langchain.embeddings import OpenAIEmbeddings, HuggingFaceEmbeddings, SentenceTransformerEmbeddings\n",
    "\n",
    "# Use local LLMs (e.g., via Ollama) for response generation\n",
    "from langchain.llms import Ollama\n",
    "\n",
    "# Build a retrieval chain that combines a retriever, a prompt, and an LLM\n",
    "from langchain.chains import ConversationalRetrievalChain\n",
    "\n",
    "# Create prompts for the RAG system\n",
    "from langchain.prompts import PromptTemplate\n",
    "\n",
    "print(\"✅ Libraries imported! You're good to go!\")"
   ]
  },
  {
   "cell_type": "markdown",
   "id": "1aaacfdc",
   "metadata": {},
   "source": [
    "## 2 - Data preparation\n",
    "The goal of this step is to turn all reference documents into small chunks of text that a retriever can index and search. These documents typically come from:\n",
    "* PDF files: local documents such as policies, user manuals, or guides.\n",
    "* Web pages (HTML): online documentation, blog posts, or help articles.\n",
    "\n",
    "In this step, we perform two actions:\n",
    "* **Ingesting**: load every PDF and collect the raw text in a list named `raw_docs`.\n",
    "* **Chunking**: split each document into small, overlapping chunks so later steps can match a user query to the most relevant passage."
   ]
  },
  {
   "cell_type": "markdown",
   "id": "87150689",
   "metadata": {},
   "source": [
    "### 2.1 - Ingest source documents"
   ]
  },
  {
   "cell_type": "markdown",
   "id": "078b461a",
   "metadata": {},
   "source": [
    "We can use different libraries to load and process PDFs. A quick web search will show several options, each with its own strengths. In this case, we’ll use PyPDFLoader from LangChain, which makes it easy to extract text from PDF files for downstream processing. To learn more about how to use it, refer to: https://python.langchain.com/docs/integrations/document_loaders/pypdfloader/\n",
    "\n",
    "Use **PyPDFLoader** to load every PDF whose filename matches `data/Everstorm_*.pdf` and collect all pages in a list called `raw_docs`. The content of these PDFs is synthetically generated for educational purposes."
   ]
  },
  {
   "cell_type": "code",
   "execution_count": 4,
   "id": "9ff055a6",
   "metadata": {},
   "outputs": [
    {
     "name": "stderr",
     "output_type": "stream",
     "text": [
      "Ignoring wrong pointing object 81 0 (offset 0)\n",
      "Ignoring wrong pointing object 76 0 (offset 0)\n",
      "Ignoring wrong pointing object 80 0 (offset 0)\n"
     ]
    },
    {
     "name": "stdout",
     "output_type": "stream",
     "text": [
      "Loaded 8 PDF pages from 4 files.\n"
     ]
    }
   ],
   "source": [
    "pdf_paths = glob.glob(\"data/Everstorm_*.pdf\")\n",
    "raw_docs = []\n",
    "\n",
    "for path in pdf_paths:\n",
    "    loader = PyPDFLoader(path)\n",
    "    raw_docs.extend(loader.load())\n",
    "    \n",
    "\n",
    "print(f\"Loaded {len(raw_docs)} PDF pages from {len(pdf_paths)} files.\")"
   ]
  },
  {
   "cell_type": "markdown",
   "id": "c69f135e",
   "metadata": {},
   "source": [
    "### (Optional) 2.1 - Load web pages\n",
    "You can also pull content straight from the web. Various libraries support reading and parsing web pages directly into text, which is useful for building custom knowledge bases. One example is **UnstructuredURLLoader** from LangChain, which can extract readable content from raw HTML pages and return them in a structured format. To learn more, see: https://python.langchain.com/api_reference/community/document_loaders/langchain_community.document_loaders.url.UnstructuredURLLoader.html\n",
    "\n",
    "To practice, load each HTML page below and store the results in a list called `raw_docs`. We’ve included a few sample URLs, but you can replace them with any links you prefer.\n",
    "\n",
    "For robustness, add an offline fallback in case a URL fails. In real projects, we typically cache fetched pages to disk, handle rate limits, and track fetch timestamps so content can be refreshed periodically without relying on live network calls during development. For this project, we don’t have offline HTML copies available, but you can still practice by loading any PDFs from the data/ folder using PyPDFLoader and appending them to raw_docs."
   ]
  },
  {
   "cell_type": "code",
   "execution_count": 6,
   "id": "65abec32",
   "metadata": {},
   "outputs": [
    {
     "name": "stdout",
     "output_type": "stream",
     "text": [
      "Fetched 12 documents from the web.\n"
     ]
    }
   ],
   "source": [
    "URLS = [\n",
    "    # --- BigCommerce – shipping & refunds ---\n",
    "    \"https://developer.bigcommerce.com/docs/store-operations/shipping\",\n",
    "    \"https://developer.bigcommerce.com/docs/store-operations/orders/refunds\",\n",
    "    # --- Stripe – disputes & chargebacks ---\n",
    "    # \"https://docs.stripe.com/disputes\",  \n",
    "    # --- WooCommerce – REST API reference ---\n",
    "    # \"https://woocommerce.github.io/woocommerce-rest-api-docs/v3.html\",\n",
    "]\n",
    "\n",
    "try:\n",
    "    loader = UnstructuredURLLoader(urls=URLS) \n",
    "    raw_docs.extend(loader.load())\n",
    "    print(f\"Fetched {len(raw_docs)} documents from the web.\")\n",
    "except Exception as e:\n",
    "    print(\"⚠️  Web fetch failed, using offline copies:\", e)\n",
    "    webpdf_paths = glob.glob(\"offline_web/*.pdf\")\n",
    "    #raw_web_docs = []\n",
    "    for path in webpdf_paths:\n",
    "        loader = PyPDFLoader(path)\n",
    "        raw_docs.extend(loader.load()) \n",
    "    print(f\"Loaded {len(raw_docs)} offline documents.\")"
   ]
  },
  {
   "cell_type": "markdown",
   "id": "c0ac4490",
   "metadata": {},
   "source": [
    "### 2.2 - Chunk the text"
   ]
  },
  {
   "cell_type": "markdown",
   "id": "9c242e44",
   "metadata": {},
   "source": [
    "Long documents won’t work well directly with most LLMs. They can easily exceed the model’s context window, making it impossible for the model to read or reason over the full text at once. Even if they fit, processing long inputs can be inefficient and lead to weaker retrieval results.\n",
    "\n",
    "To handle this, we split large documents into smaller, overlapping chunks. Several libraries can help with text splitting, each designed to preserve structure or balance chunk size. A popular choice is `RecursiveCharacterTextSplitter` from LangChain, which splits text intelligently while keeping paragraph or sentence boundaries intact. To familiarize youself with the library, visit: https://python.langchain.com/api_reference/text_splitters/character/langchain_text_splitters.character.RecursiveCharacterTextSplitter.html\n",
    "\n",
    "In this project, we’ll split each document into chunks of roughly 300 tokens with a 30-token overlap using `RecursiveCharacterTextSplitter`. This overlap helps maintain continuity across chunks while ensuring each piece stays small enough for embedding and retrieval."
   ]
  },
  {
   "cell_type": "code",
   "execution_count": 7,
   "id": "450d48a0",
   "metadata": {},
   "outputs": [
    {
     "name": "stdout",
     "output_type": "stream",
     "text": [
      "✅ 151 chunks ready for embedding\n"
     ]
    }
   ],
   "source": [
    "chunks = []\n",
    "# Initialize the text splitter\n",
    "text_splitter = RecursiveCharacterTextSplitter(\n",
    "    chunk_size=300,       # max number of characters per chunk\n",
    "    chunk_overlap=30,     # overlap between chunks to preserve context\n",
    "    length_function=len,   # how to measure length\n",
    "    separators=[\"\\n\\n\", \"\\n\", \".\", \"!\", \"?\", \" \", \"\"]  # fallback split hierarchy\n",
    ")\n",
    "\n",
    "# Split the documents into chunks\n",
    "chunks = text_splitter.split_documents(raw_docs)\n",
    "print(f\"✅ {len(chunks)} chunks ready for embedding\")"
   ]
  },
  {
   "cell_type": "markdown",
   "id": "d89e6213",
   "metadata": {},
   "source": [
    "## 3 -Build a retriever\n",
    "\n",
    "A *retriever* lets the RAG pipeline efficiently look up small, relevant pieces of context at query‑time. This step has two parts:\n",
    "1. **Load a model to generate embeddings**: convert each text chunk from the reference documents into a fixed‑length vector that captures its semantic meaning.  \n",
    "2. **Build vector database**: store these embeddings in a vector database.\n"
   ]
  },
  {
   "cell_type": "markdown",
   "id": "c90db2d2",
   "metadata": {},
   "source": [
    "### 3.1 - Load a model to generate embeddings"
   ]
  },
  {
   "cell_type": "markdown",
   "id": "da722b3b",
   "metadata": {},
   "source": [
    "The goal of this step is to convert each document chunk into a numerical vector (an embedding) that captures its semantic meaning. These embeddings allow our retriever to find and compare similar pieces of text efficiently.\n",
    "\n",
    "There are models trained specifically for this purpose, called embedding models. One popular example is OpenAI’s `text-embedding-3-small`, which produces high-quality embeddings that work well for retrieval and semantic search.\n",
    "\n",
    "If you prefer running everything locally, you can use smaller open-source models such as `gte-small` (77 M parameters). These local models load quickly, don’t require internet access, and are ideal for experimentation or environments without API access. However, they’re typically less powerful than hosted models.\n",
    "\n",
    "Alternatively, you can connect to an API service to access stronger models like OpenAI’s. These require setting an API key (for example, OPENAI_API_KEY) in your environment. OpenAI allows you to create a free account and sometimes offers limited trial credits for new users, but ongoing access requires a billing setup. \n",
    "\n",
    "In this exercise, we’ll stick to the smaller gte-small model for simplicity and reproducibility. We'll use our imported `SentenceTransformerEmbeddings` library to load the model and use it to embed queries. To learn more about lagnchain's embedding support, visit: https://python.langchain.com/docs/integrations/text_embedding/"
   ]
  },
  {
   "cell_type": "code",
   "execution_count": 9,
   "id": "4a222122",
   "metadata": {},
   "outputs": [
    {
     "name": "stdout",
     "output_type": "stream",
     "text": [
      "384\n"
     ]
    }
   ],
   "source": [
    "embedding_vector = []\n",
    "\n",
    "# Embed the sentence \"Hello world! and store it in an embedding_vector.\n",
    "embeddings = HuggingFaceEmbeddings(model_name=\"all-MiniLM-L6-v2\")\n",
    "embedding_vector = embeddings.embed_query(\"Hello, world!\")\n",
    "print(len(embedding_vector))"
   ]
  },
  {
   "cell_type": "markdown",
   "id": "cebdae3d",
   "metadata": {},
   "source": [
    "### 3.2 - Build a vector database\n",
    "\n",
    "Once we have embeddings, we need a way to store and search them efficiently. A simple list wouldn’t scale well, especially when we have thousands of chunks and need to quickly find the most relevant ones.\n",
    "\n",
    "To solve this, we use **FAISS**, an open-source similarity search library developed by Meta. FAISS is optimized for fast nearest-neighbor search in high-dimensional spaces, making it ideal for tasks like semantic retrieval and recommendation. It’s strongly encouraged to visit their quickstart guide to understand how FAISS works and how to use it effectively: https://github.com/facebookresearch/faiss/wiki/getting-started\n",
    "\n",
    "In this step, we’ll feed all our document embeddings into FAISS, which builds an in-memory vector index. This index allows us to efficiently query for the *k* most similar chunks to any given question.\n",
    "\n",
    "During inference, we’ll use this index to retrieve the top-k relevant chunks and pass them to the LLM as context, enabling it to answer questions grounded in our documents.\n",
    "\n"
   ]
  },
  {
   "cell_type": "code",
   "execution_count": 10,
   "id": "611eda64",
   "metadata": {},
   "outputs": [
    {
     "name": "stdout",
     "output_type": "stream",
     "text": [
      "✅ Vector store with 12 embeddings\n"
     ]
    }
   ],
   "source": [
    "# Expected steps:\n",
    "    # 1. Build the FAISS index from the list of document chunks and their embeddings.\n",
    "    # 2. Create a retriever object with a suitable k value (e.g., 8).\n",
    "    # 3. Save the vector store locally (e.g., under \"faiss_index\").\n",
    "    # 4. Print a short confirmation showing how many embeddings were stored.\n",
    "\n",
    "\n",
    "embeddings = HuggingFaceEmbeddings(model_name=\"all-MiniLM-L6-v2\")\n",
    "vectordb = FAISS.from_documents(raw_docs, embeddings)\n",
    "retriever = vectordb.as_retriever(search_kwargs={\"k\": 8})\n",
    "vectordb.save_local(\"faiss_index\")\n",
    "\n",
    "\n",
    "print(\"✅ Vector store with\", vectordb.index.ntotal, \"embeddings\")"
   ]
  },
  {
   "cell_type": "markdown",
   "id": "c456f820",
   "metadata": {},
   "source": [
    "## 4 - Build the generation engine\n",
    "At the core of any RAG system lies an **LLM**. The retriever finds relevant information, and the LLM uses that information to generate coherent, context-aware responses.\n",
    "\n",
    "In this project, we’ll use **Gemma 3* (1B), a small but capable open-weight model, and run it entirely on your local machine using Ollama. This means you won’t need API keys or internet access to generate responses once the model is downloaded.\n",
    "\n",
    "**What is Ollama?**\n",
    "\n",
    "Ollama is a lightweight runtime for managing and serving open-weight LLMs locally. It provides:\n",
    "* A simple REST API running at localhost:11434, so your code can interact with the model via standard HTTP calls.\n",
    "* A model registry and command-line tool** to pull, run, and manage models easily.\n",
    "* Support for a wide variety of models (e.g., Gemma, Llama, Mistral, Phi, etc.), making it ideal for experimentation.\n",
    "\n",
    "To learn more about Ollama, visit: https://github.com/ollama/ollama. You can browse all supported models and their sizes here: https://ollama.com/library\n",
    "\n",
    "\n",
    "### 4.1 - Install `ollama` and serve `gemma3`\n",
    "\n",
    "Follow these steps to set up Ollama and start the model server:\n",
    "\n",
    "**1 - Install**\n",
    "```bash\n",
    "# macOS (Homebrew)\n",
    "brew install ollama\n",
    "# Linux\n",
    "curl -fsSL https://ollama.com/install.sh | sh\n",
    "```\n",
    "\n",
    "If you’re on Windows, install using the official installer from https://ollama.com/download.\n",
    "\n",
    "**2 - Start the Ollama server (keep this terminal open)**\n",
    "```bash\n",
    "ollama serve\n",
    "```\n",
    "This command launches a local server at http://localhost:11434, which will stay running in the background.\n",
    "\n",
    "\n",
    "**3 - Pull the Gemma mode (or the model of your choice) in a new terminal**\n",
    "```bash\n",
    "ollama pull gemma3:1b\n",
    "```\n",
    "\n",
    "This downloads the 1B version of Gemma 3, a compact model suitable for running on most modern laptops. Once downloaded, Ollama will automatically handle model loading and caching.\n",
    "\n",
    "\n",
    "After this setup, your system is ready to generate responses locally using the Gemma model through the Ollama API.\n"
   ]
  },
  {
   "cell_type": "markdown",
   "id": "bba7e203",
   "metadata": {},
   "source": [
    "### 4.2 - Test an LLM with a random prompt (Sanity check)\n"
   ]
  },
  {
   "cell_type": "code",
   "execution_count": 11,
   "id": "b1d34a32",
   "metadata": {},
   "outputs": [
    {
     "name": "stderr",
     "output_type": "stream",
     "text": [
      "/var/folders/hn/719yv6115yz_h5hxxs3yqzl00000gn/T/ipykernel_53069/1561659583.py:5: LangChainDeprecationWarning: The class `Ollama` was deprecated in LangChain 0.3.1 and will be removed in 1.0.0. An updated version of the class exists in the :class:`~langchain-ollama package and should be used instead. To use it run `pip install -U :class:`~langchain-ollama` and import as `from :class:`~langchain_ollama import OllamaLLM``.\n",
      "  llm = Ollama(model=\"gemma3:1b\", temperature=0.1)\n"
     ]
    },
    {
     "name": "stdout",
     "output_type": "stream",
     "text": [
      "Okay, let's break down the benefits of using Retrieval-Augmented Generation (RAG) – it's become incredibly popular for several reasons. Here's a breakdown of the key advantages, categorized for clarity:\n",
      "\n",
      "**1. Improved Accuracy & Reduced Hallucinations:**\n",
      "\n",
      "* **Grounding in Reality:** This is *the* biggest benefit. RAG doesn't just rely on the model's pre-trained knowledge. It uses the retrieved documents to *ground* the model's responses in verifiable facts. This drastically reduces the likelihood of the model generating incorrect or fabricated information (hallucinations).\n",
      "* **Better Factuality:** Because the model is referencing external sources, it's more likely to produce factually correct answers.\n",
      "* **Reduced \"Brain Leak\" Effect:**  The model can't confidently assert something it doesn't have the information to answer.\n",
      "\n",
      "**2. Enhanced Context & Relevance:**\n",
      "\n",
      "* **More Relevant Responses:** RAG tailors responses to the specific context of the query. It doesn't just generate a generic answer; it pulls in the most pertinent information from the retrieved documents.\n",
      "* **Contextual Understanding:** The model can understand the *intent* behind the question better because it has a broader context – the retrieved documents.\n",
      "* **Handles Complex Queries:**  RAG excels at answering questions that require synthesizing information from multiple sources.\n",
      "\n",
      "**3. Increased Flexibility & Adaptability:**\n",
      "\n",
      "* **Easy to Update Knowledge:**  You don’t need to retrain the entire model.  Just update the documents you provide.  This is a huge time and cost saver.\n",
      "* **Adaptable to Different Domains:** You can easily swap out different knowledge sources (documents, databases, websites) without retraining the model.\n",
      "* **Supports Multiple Languages:** RAG can be easily adapted to different languages by providing the appropriate language files.\n",
      "* **Quick Iteration:**  You can quickly test different retrieval strategies and document sets to improve the quality of responses.\n",
      "\n",
      "\n",
      "**4. Cost Efficiency:**\n",
      "\n",
      "* **Reduced API Calls:**  Instead of relying solely on the model's internal knowledge, RAG reduces the number of API calls needed to generate responses.\n",
      "* **Lower Compute Costs:**  Less reliance on the model means potentially lower compute costs, especially for complex queries.\n",
      "\n",
      "\n",
      "**5. Improved User Experience:**\n",
      "\n",
      "* **More Trustworthy Answers:** Users are more likely to trust answers that are grounded in external sources.\n",
      "* **Explainability:**  You can often trace the source of an answer, making the system more transparent.\n",
      "* **Discoverability:**  Users can easily explore related information by browsing the retrieved documents.\n",
      "\n",
      "\n",
      "**Here's a simple analogy:**\n",
      "\n",
      "Imagine you ask a student a question.\n",
      "\n",
      "* **Without RAG:** The student relies solely on their own knowledge and memory.\n",
      "* **With RAG:** You provide the student with relevant textbook chapters and research papers. The student then uses those sources to answer the question, making it more accurate and reliable.\n",
      "\n",
      "\n",
      "**Key Components of RAG:**\n",
      "\n",
      "* **Retrieval:**  The process of finding relevant documents. This often involves techniques like vector search (using embeddings) to find documents similar to the query.\n",
      "* **Generation:** The process of using the retrieved documents to generate a response.\n",
      "\n",
      "**Resources for Learning More:**\n",
      "\n",
      "* **OpenAI's RAG Documentation:** [https://docs.openai.com/en/gpt-3/docs/rag/overview/overview_guide](https://docs.openai.com/en/gpt-3/docs/rag/overview_guide)\n",
      "* **LangChain:** [https://www.langchain.com/](https://www.langchain.com/) - A popular framework for building RAG applications.\n",
      "* **Hugging Face Transformers:** [https://huggingface.co/transformers/](https://huggingface.co/transformers/) -  Provides tools for embedding and retrieval.\n",
      "\n",
      "---\n",
      "\n",
      "To help me tailor the information further, could you tell me:\n",
      "\n",
      "*   **What is the context of your question?** (e.g., are you building a chatbot, answering customer support questions, or something else?)\n",
      "*   **What are you hoping to achieve with RAG?** (e.g., improve accuracy, reduce costs, increase user engagement?)\n"
     ]
    }
   ],
   "source": [
    "# Expected steps:\n",
    "    # 1. Initialize the model (for example, gemma3:1b) with a low temperature such as 0.1 for more factual outputs.\n",
    "    # 2. Use llm.invoke() with a short test prompt and print the response to verify that the model runs successfully.\n",
    "\n",
    "llm = Ollama(model=\"gemma3:1b\", temperature=0.1)\n",
    "response = llm.invoke(\"What are the benefits of using RAG\")\n",
    "print(response)"
   ]
  },
  {
   "cell_type": "markdown",
   "id": "6556263d",
   "metadata": {},
   "source": [
    "## Build a RAG"
   ]
  },
  {
   "cell_type": "markdown",
   "id": "3dbfec15",
   "metadata": {},
   "source": [
    "### 5.1 - Define a system prompt"
   ]
  },
  {
   "cell_type": "markdown",
   "id": "66b5c84b",
   "metadata": {},
   "source": [
    "At this stage, we need to tell the model how to behave when generating answers. The **system prompt** acts as the model’s rulebook. It should clearly instruct the model to answer only using the retrieved context and to admit when it doesn’t know the answer. This helps prevent hallucination and keeps the responses grounded in the provided documents.\n",
    "\n",
    "In general, a good RAG prompt emphasizes three things: stay within context, stay factual, and stay concise. This is important because RAG works by grounding the LLM in retrieved text. If the prompt is vague, the model may invent details. A precise system prompt reduces hallucinations and keeps answers aligned with your corpus."
   ]
  },
  {
   "cell_type": "code",
   "execution_count": 12,
   "id": "dcecb2b6",
   "metadata": {},
   "outputs": [],
   "source": [
    "SYSTEM_TEMPLATE = \"\"\"\n",
    "You are a **Customer Support Chatbot**. Use only the information in CONTEXT to answer.\n",
    "If the answer is not in CONTEXT, respond with “I'm not sure from the docs.”\n",
    "\n",
    "Rules:\n",
    "1) Use ONLY the provided <context> to answer.\n",
    "2) If the answer is not in the context, say: \"I don't know based on the retrieved documents.\"\n",
    "3) Be concise and accurate. Prefer quoting key phrases from the context.\n",
    "4) When possible, cite sources as [source: {source}] using the metadata.\n",
    "\n",
    "CONTEXT:\n",
    "{context}\n",
    "\n",
    "USER:\n",
    "{question}\n",
    "\"\"\""
   ]
  },
  {
   "cell_type": "markdown",
   "id": "de27cc9a",
   "metadata": {},
   "source": [
    "### 5.2 Create a RAG chain\n",
    "Now that we have a retriever, a prompt, and a language model, we can connect them into a single RAG pipeline. The retriever finds the most relevant chunks from our vector index, the prompt injects those chunks into the system message, and the LLM uses that context to produce the final answer. (retriever → prompt → model)\n",
    "\n",
    "This connection is handled through LangChain’s `ConversationalRetrievalChain`, which combines retrieval and generation. To familiarize yourself with the library, visit: https://python.langchain.com/api_reference/langchain/chains/langchain.chains.conversational_retrieval.base.ConversationalRetrievalChain.html"
   ]
  },
  {
   "cell_type": "code",
   "execution_count": null,
   "id": "0b138b3d",
   "metadata": {},
   "outputs": [],
   "source": [
    "# Expected steps:\n",
    "    # 1. Create a PromptTemplate that uses the SYSTEM_TEMPLATE you defined earlier, with input variables for \"context\" and \"question\".\n",
    "    # 2. Initialize your LLM using Ollama with the gemma3:1b model and a low temperature (e.g., 0.1) for reliable, grounded responses.\n",
    "    # 3. Build a ConversationalRetrievalChain by combining the LLM, the retriever, and your custom prompt and name it \"chain\".\n",
    "\n",
    "prompt = PromptTemplate(\n",
    "    template=SYSTEM_TEMPLATE,\n",
    "    input_variables=[\"context\", \"question\"]\n",
    ")\n",
    "llm = Ollama(model=\"gemma3:1b\", temperature=0.1)\n",
    "\n",
    "chain = ConversationalRetrievalChain.from_llm(\n",
    "    llm=llm,\n",
    "    retriever=retriever,\n",
    "    combine_docs_chain_kwargs={\"prompt\": prompt},\n",
    "    return_source_documents=True\n",
    ")"
   ]
  },
  {
   "cell_type": "markdown",
   "id": "64a6c7fc",
   "metadata": {},
   "source": [
    "When you ask a question, the retriever pulls the top few relevant text chunks, the model reads them through the system prompt, and then it generates an answer based on that context.\n",
    "\n",
    "This structure makes the system transparent and easy to debug. You can inspect what text was retrieved, tune parameters like k, and experiment with different prompts to see how they affect the output quality.\n"
   ]
  },
  {
   "cell_type": "markdown",
   "id": "6c1eb44d",
   "metadata": {},
   "source": [
    "### 5.3 - Validate the RAG chain"
   ]
  },
  {
   "cell_type": "markdown",
   "id": "e5ee50de",
   "metadata": {},
   "source": [
    "We run a few questions to make sure everything behaves as expecte. Experiment by adding you own questions."
   ]
  },
  {
   "cell_type": "code",
   "execution_count": 16,
   "id": "8f6d7a7d",
   "metadata": {},
   "outputs": [
    {
     "name": "stdout",
     "output_type": "stream",
     "text": [
      "\n",
      "Question: If I'm not happy with my purchase, what is your refund policy and how do I start a return?\n",
      "Answer: Okay, let's break down Everstorm's refund policy and how to initiate a return.\n",
      "\n",
      "**Everstorm's Refund Policy**\n",
      "\n",
      "Everstorm offers a pretty generous refund policy, designed to give you peace of mind. Here’s a summary:\n",
      "\n",
      "*   **Return Window:** You have 30 days from the date you receive your order to initiate a return.\n",
      "*   **Condition of Return:** Items must be returned in their original condition, unused, undamaged, and with all original packaging and tags attached.\n",
      "*   **Return Shipping:**  The customer is responsible for return shipping costs.  Everstorm will provide a prepaid shipping label to make the return process easier.\n",
      "*   **Refund Processing:**  Refunds are typically processed within 7-10 business days of receiving the returned item.\n",
      "*   **Refund Method:** Refunds will be issued to the original payment method used for the purchase.\n",
      "\n",
      "**How to Start a Return**\n",
      "\n",
      "Here’s a step-by-step guide on how to start a return:\n",
      "\n",
      "1.  **Log in to Your Account:** Go to [https://www.everstorm.example](https://www.everstorm.example) and log in to your account.\n",
      "2.  **Navigate to Orders:** Click on “Orders” from the main navigation menu.\n",
      "3.  **Find the Order:** Locate the order you want to return.\n",
      "4.  **Initiate Return:** Click on the \"Return Item\" button.\n",
      "5.  **Select Reason:** Choose the reason for your return from the dropdown menu.\n",
      "6.  **Select Shipping Method:** Choose the shipping method you’ll be using to return the item.\n",
      "7.  **Print/Download Return Label:** Everstorm will automatically generate a prepaid shipping label.  Print this label and securely attach it to the package.\n",
      "8.  **Pack the Item:** Carefully repackage the item in its original packaging, if possible.\n",
      "9.  **Ship the Package:** Drop off the package at a designated carrier location (e.g., UPS Store, FedEx Office).\n",
      "\n",
      "**Important Notes:**\n",
      "\n",
      "*   **No Refunds for Damaged Items:** Everstorm does not offer refunds for damaged items.\n",
      "*   **Return Shipping Costs:**  You are responsible for the cost of return shipping.\n",
      "\n",
      "**Resources:**\n",
      "\n",
      "*   **FAQ:** [https://www.everstorm.example/faq](https://www.everstorm.example/faq) - This page contains answers to frequently asked questions about returns.\n",
      "*   **Help Center:** [https://www.everstorm.example/help](https://www.everstorm.example/help) -  This page offers more detailed information about the return process.\n",
      "\n",
      "**To help me give you even more tailored advice, could you tell me:**\n",
      "\n",
      "*   What type of item are you returning? (e.g., clothing, electronics, etc.)\n",
      "*   Do you have any specific questions about the return process?\n",
      "\n",
      "Question: How long will delivery take for a standard order, and where can I track my package once it ships?\n",
      "Answer: Okay, here's the information on delivery times and tracking:\n",
      "\n",
      "**Delivery Times:**\n",
      "\n",
      "*   **Standard Delivery:** Typically takes 3-7 business days.\n",
      "*   **Expedited Delivery:** Takes 1-2 business days.\n",
      "*   **Same-Day Delivery:** Available in select areas (check availability).\n",
      "\n",
      "**Tracking Your Package:**\n",
      "\n",
      "You can track your package using the following:\n",
      "\n",
      "*   **Your Order History:** Log in to your account on our website and find the order you're tracking. There, you'll see the tracking number and a link to the carrier's website ([https://www.carrier.com/](https://www.carrier.com/)).\n",
      "*   **Carrier Tracking:**  The carrier (usually USPS, FedEx, or UPS) will provide a tracking number. You can track the package's progress on their website.\n",
      "\n",
      "**To find the tracking number:**\n",
      "\n",
      "1.  Go to [https://www.carrier.com/](https://www.carrier.com/)\n",
      "2.  Enter your order number or tracking number.\n",
      "\n",
      "Do you have any other questions about tracking or delivery?\n",
      "\n",
      "Question: What's the quickest way to contact your support team, and what are your operating hours?\n",
      "Answer: Okay, here’s the information about contacting support and operating hours, based on the provided text:\n",
      "\n",
      "**Ways to Contact Support:**\n",
      "\n",
      "*   **Email:**  You can email logistics@everstorm.example.\n",
      "*   **Live Chat:** Available on the website.\n",
      "*   **Phone:**  You can call the customer support number.\n",
      "\n",
      "**Operating Hours:**\n",
      "\n",
      "*   **Monday – Friday:** 9:00 AM – 5:00 PM\n",
      "*   **Weekend:** Monday – Friday: 9:00 AM – 12:00 PM, Saturday: 12:00 PM – 6:00 PM, Sunday: Closed\n",
      "\n",
      "**Important Notes:**\n",
      "\n",
      "*   **Holiday Hours:**  During the holiday season (November 1st – December 31st), support hours are extended to 12:00 PM – 6:00 PM.\n",
      "*   **Final Sale & Custom Items:**  Returns and exchanges are handled within 30 days of delivery, and are subject to a $1 fee.\n",
      "*   **Warranty Claims:**  For defects and warranty claims, you need to submit them within 12 months.\n",
      "\n",
      "Do you have any other questions about the support process or operating hours?\n"
     ]
    }
   ],
   "source": [
    "test_questions = [\n",
    "    \"If I'm not happy with my purchase, what is your refund policy and how do I start a return?\",\n",
    "    \"How long will delivery take for a standard order, and where can I track my package once it ships?\",\n",
    "    \"What's the quickest way to contact your support team, and what are your operating hours?\",\n",
    "]\n",
    "\n",
    "# Expected steps:\n",
    "    # 1. Initialize an empty chat_history list.\n",
    "    # 2. Loop through test_questions, pass each question and the current chat history to the chain, and append the new answer.\n",
    "    # 3. Print each question and the LLM's response to verify it’s working correctly.\n",
    "\n",
    "chat_history = []\n",
    "source = \"\"\n",
    "for question in test_questions:\n",
    "    result = chain({\"question\": question,\"source\":source,\"chat_history\": chat_history})\n",
    "    chat_history.append((question, result[\"answer\"]))\n",
    "    print(f\"\\nQuestion: {question}\")\n",
    "    print(f\"Answer: {result['answer']}\")"
   ]
  },
  {
   "cell_type": "markdown",
   "id": "86f8c6b4",
   "metadata": {},
   "source": [
    "### 6 - Build the Streamlit UI (optional)"
   ]
  },
  {
   "cell_type": "markdown",
   "id": "eecc640b",
   "metadata": {},
   "source": [
    "The goal here is to create a tiny demo so you can interact with your RAG system. The focus is not on UI design. We will build a very small interface only to demonstrate the end-to-end flow.\n",
    "\n",
    "There are many ways to make a UI. Some frameworks are powerful but take longer to set up, while others are simple and good for quick experiments. Streamlit is a common choice for fast prototyping because it lets you make a usable interface with only a few lines of Python. If you want to learn the basics, see the Streamlit Quickstart: https://docs.streamlit.io/deploy/streamlit-community-cloud/get-started/quickstart\n",
    "\n",
    "This step is optional. If it is not useful for your work, you can skip it. We will also complete this part together during the live session.\n",
    "\n",
    "In this cell, we write a minimal **`app.py`** that starts a simple chat UI and calls your RAG chain."
   ]
  },
  {
   "cell_type": "code",
   "execution_count": 19,
   "id": "c182fb86",
   "metadata": {},
   "outputs": [
    {
     "name": "stderr",
     "output_type": "stream",
     "text": [
      "2025-10-16 21:19:41.680 Thread 'MainThread': missing ScriptRunContext! This warning can be ignored when running in bare mode.\n",
      "2025-10-16 21:19:41.681 Thread 'MainThread': missing ScriptRunContext! This warning can be ignored when running in bare mode.\n",
      "2025-10-16 21:19:41.681 Thread 'MainThread': missing ScriptRunContext! This warning can be ignored when running in bare mode.\n",
      "2025-10-16 21:19:41.681 Thread 'MainThread': missing ScriptRunContext! This warning can be ignored when running in bare mode.\n",
      "2025-10-16 21:19:41.682 Thread 'MainThread': missing ScriptRunContext! This warning can be ignored when running in bare mode.\n",
      "2025-10-16 21:19:41.682 Thread 'MainThread': missing ScriptRunContext! This warning can be ignored when running in bare mode.\n",
      "2025-10-16 21:19:41.682 Thread 'MainThread': missing ScriptRunContext! This warning can be ignored when running in bare mode.\n",
      "2025-10-16 21:19:41.683 Thread 'MainThread': missing ScriptRunContext! This warning can be ignored when running in bare mode.\n",
      "2025-10-16 21:19:41.683 Thread 'MainThread': missing ScriptRunContext! This warning can be ignored when running in bare mode.\n",
      "2025-10-16 21:19:41.683 Thread 'MainThread': missing ScriptRunContext! This warning can be ignored when running in bare mode.\n",
      "2025-10-16 21:19:41.683 Thread 'MainThread': missing ScriptRunContext! This warning can be ignored when running in bare mode.\n",
      "2025-10-16 21:19:41.684 Thread 'MainThread': missing ScriptRunContext! This warning can be ignored when running in bare mode.\n",
      "2025-10-16 21:19:41.684 Thread 'MainThread': missing ScriptRunContext! This warning can be ignored when running in bare mode.\n",
      "2025-10-16 21:19:41.684 Thread 'MainThread': missing ScriptRunContext! This warning can be ignored when running in bare mode.\n",
      "2025-10-16 21:19:41.684 Thread 'MainThread': missing ScriptRunContext! This warning can be ignored when running in bare mode.\n"
     ]
    }
   ],
   "source": [
    "# ============================================================\n",
    "# Environment Setup\n",
    "# ============================================================\n",
    "import os\n",
    "os.environ[\"STREAMLIT_WATCHER_TYPE\"] = \"none\"\n",
    "\n",
    "import streamlit as st\n",
    "\n",
    "# ============================================================\n",
    "# LangChain Imports\n",
    "# ============================================================\n",
    "from langchain.vectorstores import FAISS\n",
    "from langchain.embeddings import (\n",
    "    OpenAIEmbeddings,\n",
    "    HuggingFaceEmbeddings,\n",
    "    SentenceTransformerEmbeddings,\n",
    ")\n",
    "from langchain.llms import Ollama\n",
    "from langchain.chains import ConversationalRetrievalChain\n",
    "from langchain.prompts import PromptTemplate\n",
    "\n",
    "# ============================================================\n",
    "# System Prompt Template\n",
    "# ============================================================\n",
    "SYSTEM_TEMPLATE = \"\"\"\n",
    "You are a **Customer Support Chatbot**. Use only the information in CONTEXT to answer.\n",
    "If the answer is not in CONTEXT, respond with “I'm not sure from the docs.”\n",
    "\n",
    "Rules:\n",
    "1) Use ONLY the provided <context> to answer.\n",
    "2) If the answer is not in the context, say: \"I don't know based on the retrieved documents.\"\n",
    "3) Be concise and accurate. Prefer quoting key phrases from the context.\n",
    "4) When possible, cite sources as [source: {source}] using the metadata.\n",
    "\n",
    "CONTEXT:\n",
    "{context}\n",
    "\n",
    "USER:\n",
    "{question}\n",
    "\"\"\"\n",
    "\n",
    "# ============================================================\n",
    "# Load Embeddings and Vector Store\n",
    "# ============================================================\n",
    "embeddings = HuggingFaceEmbeddings(model_name=\"all-MiniLM-L6-v2\")\n",
    "\n",
    "vectorstore = FAISS.load_local(\n",
    "    \"faiss_index\",\n",
    "    embeddings,\n",
    "    allow_dangerous_deserialization=True\n",
    ")\n",
    "retriever = vectorstore.as_retriever()\n",
    "\n",
    "# ============================================================\n",
    "# Initialize LLM and RAG Chain\n",
    "# ============================================================\n",
    "prompt = PromptTemplate(\n",
    "    template=SYSTEM_TEMPLATE,\n",
    "    input_variables=[\"context\", \"question\"]\n",
    ")\n",
    "\n",
    "llm = Ollama(model=\"gemma3:1b\", temperature=0.1)\n",
    "\n",
    "chain = ConversationalRetrievalChain.from_llm(\n",
    "    llm=llm,\n",
    "    retriever=retriever,\n",
    "    combine_docs_chain_kwargs={\"prompt\": prompt},\n",
    "    return_source_documents=True\n",
    ")\n",
    "\n",
    "# ============================================================\n",
    "# Streamlit App UI\n",
    "# ============================================================\n",
    "st.title(\"🧠 Tiny RAG Demo\")\n",
    "\n",
    "# User input box\n",
    "question = st.text_input(\"Ask a question about your documents:\")\n",
    "\n",
    "# Initialize chat history in session state\n",
    "if \"chat_history\" not in st.session_state:\n",
    "    st.session_state.chat_history = []\n",
    "\n",
    "# Optional: custom metadata or sources\n",
    "source = \"\"\n",
    "\n",
    "# ============================================================\n",
    "# Handle Query\n",
    "# ============================================================\n",
    "if st.button(\"Ask\") and question:\n",
    "    result = chain({\n",
    "        \"question\": question,\n",
    "        \"source\": source,\n",
    "        \"chat_history\": st.session_state.chat_history\n",
    "    })\n",
    "    \n",
    "    # Store conversation\n",
    "    st.session_state.chat_history.append((question, result[\"answer\"]))\n",
    "    \n",
    "    # Display answer\n",
    "    st.write(\"**Answer:**\", result[\"answer\"])\n",
    "\n",
    "# ============================================================\n",
    "# Display Chat History\n",
    "# ============================================================\n",
    "if st.session_state.chat_history:\n",
    "    st.write(\"---\")\n",
    "    st.write(\"### 💬 Chat History\")\n",
    "    for q, a in st.session_state.chat_history:\n",
    "        st.write(f\"**Q:** {q}\")\n",
    "        st.write(f\"**A:** {a}\")\n",
    "\n"
   ]
  },
  {
   "cell_type": "markdown",
   "id": "04dc8ad3",
   "metadata": {},
   "source": [
    "Run `streamlit run app.py` from your terminal."
   ]
  },
  {
   "cell_type": "markdown",
   "id": "2a7328a5",
   "metadata": {},
   "source": [
    "## 🎉 Congratulations!\n",
    "\n",
    "You’ve just built, tested, and demoed a fully working **customer-support chatbot**.  \n",
    "In one project you:\n",
    "\n",
    "* **Prepared policy docs**: loaded and chunked them for fast retrieval.  \n",
    "* **Built a vector store**: created a FAISS index with text embeddings.  \n",
    "* **Plugged in an LLM**: wrapped Gemma3 with LangChain and a prompt-aware RAG chain.  \n",
    "* **Validated end-to-end**: answered refund, shipping, and contact questions with confidence.  \n",
    "\n",
    "Swap in new documents, tweak the prompt, and your store’s customers get instant, accurate answers.\n",
    "\n",
    "👏 **Great job!** Take a moment to celebrate. The skills you used here power most RAG-based chatbots you see everywhere.\n"
   ]
  },
  {
   "cell_type": "markdown",
   "id": "929eabbd",
   "metadata": {},
   "source": []
  }
 ],
 "metadata": {
  "kernelspec": {
   "display_name": "rag-chatbot",
   "language": "python",
   "name": "rag-chatbot"
  },
  "language_info": {
   "codemirror_mode": {
    "name": "ipython",
    "version": 3
   },
   "file_extension": ".py",
   "mimetype": "text/x-python",
   "name": "python",
   "nbconvert_exporter": "python",
   "pygments_lexer": "ipython3",
   "version": "3.11.14"
  }
 },
 "nbformat": 4,
 "nbformat_minor": 5
}
